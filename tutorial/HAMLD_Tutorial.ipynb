{
 "cells": [
  {
   "cell_type": "markdown",
   "metadata": {},
   "source": [
    "# HAMLD"
   ]
  },
  {
   "cell_type": "markdown",
   "metadata": {},
   "source": [
    "Generate a surface code noisy line and sample it."
   ]
  },
  {
   "cell_type": "code",
   "execution_count": null,
   "metadata": {},
   "outputs": [],
   "source": [
    "import numpy as np\n",
    "import stim\n",
    "circuit = stim.Circuit.generated(\"surface_code:rotated_memory_x\", \n",
    "                                 distance=3, \n",
    "                                 rounds=1, \n",
    "                                 after_clifford_depolarization=0.05)\n",
    "num_shots = 1000\n",
    "model = circuit.detector_error_model(decompose_errors=False, flatten_loops=True)\n",
    "sampler = circuit.compile_detector_sampler()\n",
    "syndrome, actual_observables = sampler.sample(shots=num_shots, separate_observables=True)\n"
   ]
  },
  {
   "cell_type": "markdown",
   "metadata": {},
   "source": [
    "Construct an MLD decoder and perform decoding."
   ]
  },
  {
   "cell_type": "code",
   "execution_count": null,
   "metadata": {},
   "outputs": [
    {
     "name": "stdout",
     "output_type": "stream",
     "text": [
      "68/1000\n"
     ]
    }
   ],
   "source": [
    "import hamld\n",
    "mld_decoder = hamld.HAMLD(detector_error_model=model, order_method='mld', slice_method='no_slice')\n",
    "predicted_observables = mld_decoder.decode_batch(syndrome)\n",
    "num_mistakes = np.sum(np.any(predicted_observables != actual_observables, axis=1))\n",
    "\n",
    "print(f\"{num_mistakes}/{num_shots}\")"
   ]
  },
  {
   "cell_type": "markdown",
   "metadata": {},
   "source": [
    "Construct an HMLD decoder and perform decoding."
   ]
  },
  {
   "cell_type": "code",
   "execution_count": null,
   "metadata": {},
   "outputs": [
    {
     "name": "stdout",
     "output_type": "stream",
     "text": [
      "68/1000\n"
     ]
    }
   ],
   "source": [
    "import hamld\n",
    "hmld_decoder = hamld.HAMLD(detector_error_model=model, order_method='greedy', slice_method='no_slice')\n",
    "predicted_observables = hmld_decoder.decode_batch(syndrome)\n",
    "num_mistakes = np.sum(np.any(predicted_observables != actual_observables, axis=1))\n",
    "\n",
    "print(f\"{num_mistakes}/{num_shots}\")"
   ]
  },
  {
   "cell_type": "markdown",
   "metadata": {},
   "source": [
    "Construct an HAMLD decoder and perform decoding."
   ]
  },
  {
   "cell_type": "code",
   "execution_count": null,
   "metadata": {},
   "outputs": [
    {
     "name": "stdout",
     "output_type": "stream",
     "text": [
      "68/1000\n"
     ]
    }
   ],
   "source": [
    "import hamld\n",
    "\n",
    "hamld_decoder =  hamld.HAMLD(detector_error_model=model,\n",
    "                            order_method='greedy',\n",
    "                            slice_method='no_slice',\n",
    "                            use_approx = True,\n",
    "                            approximatestrategy = \"hyperedge_topk\",\n",
    "                            approximate_param = 100,\n",
    "                            contraction_code = \"eamld\",\n",
    "                            accuracy = \"float64\",\n",
    "                            priority = -2,\n",
    "                            priority_topk= 150)\n",
    "\n",
    "predicted_observables = hamld_decoder.decode_batch(syndrome)\n",
    "num_mistakes = np.sum(np.any(predicted_observables != actual_observables, axis=1))\n",
    "                            \n",
    "print(f\"{num_mistakes}/{num_shots}\")"
   ]
  },
  {
   "cell_type": "markdown",
   "metadata": {},
   "source": [
    "Data preprocessing: group together the same (syndrome, logical observable) and decode once, implementing a decoding method similar to a look-up table.\n",
    "\n",
    "After data preprocessing, decoding is performed.\n",
    "\n",
    "It does not affect the decoding accuracy, but can reduce the time required for QEC experiments.\n",
    "\n",
    "For more information, please refer to the code in the benchmarking directory."
   ]
  },
  {
   "cell_type": "code",
   "execution_count": null,
   "metadata": {},
   "outputs": [
    {
     "name": "stdout",
     "output_type": "stream",
     "text": [
      "68/1000\n"
     ]
    }
   ],
   "source": [
    "sample = np.hstack((syndrome, actual_observables))\n",
    "len_syndrome = syndrome.shape[1]\n",
    "unique_sample, counts = np.unique(sample, axis = 0, return_counts=True)\n",
    "num_unique_sample = unique_sample.shape[0]\n",
    "unique_syndrome = unique_sample[:,:len_syndrome]\n",
    "unique_actual_observables = unique_sample[:,len_syndrome:]\n",
    "\n",
    "hmld_decoder = hamld.HAMLD(detector_error_model=model, order_method='greedy', slice_method='no_slice')\n",
    "\n",
    "unique_predicted_observables = hmld_decoder.decode_batch(unique_syndrome)\n",
    "mistakes_mask = np.any(unique_predicted_observables != unique_actual_observables, axis=1)\n",
    "num_mistakes = np.sum(mistakes_mask * counts)\n",
    "\n",
    "print(f\"{num_mistakes}/{num_shots}\")"
   ]
  },
  {
   "cell_type": "markdown",
   "metadata": {},
   "source": [
    "Decode a syndrome, where after each decoding, the output is a probability distribution. We need to select the logical operation corresponding to the syndrome with a large probability for error correction."
   ]
  },
  {
   "cell_type": "code",
   "execution_count": 6,
   "metadata": {},
   "outputs": [
    {
     "data": {
      "text/plain": [
       "array([False, False, False, False, False, False, False,  True])"
      ]
     },
     "execution_count": 6,
     "metadata": {},
     "output_type": "execute_result"
    }
   ],
   "source": [
    "syndrome = syndrome[0]\n",
    "syndrome"
   ]
  },
  {
   "cell_type": "code",
   "execution_count": 7,
   "metadata": {},
   "outputs": [
    {
     "data": {
      "text/plain": [
       "(array([False]),\n",
       " {'000000011': 0.00028742531024673044, '000000010': 0.006402537069925312},\n",
       " 0.9570363338516503)"
      ]
     },
     "execution_count": 7,
     "metadata": {},
     "output_type": "execute_result"
    }
   ],
   "source": [
    "mld_decoder.decode(syndrome)"
   ]
  },
  {
   "cell_type": "code",
   "execution_count": null,
   "metadata": {},
   "outputs": [
    {
     "data": {
      "text/plain": [
       "(array([False]),\n",
       " {'000000011': 0.0002874253102467305, '000000010': 0.006402537069925311},\n",
       " 0.9570363338516503)"
      ]
     },
     "execution_count": 8,
     "metadata": {},
     "output_type": "execute_result"
    }
   ],
   "source": [
    "hmld_decoder.decode(syndrome)"
   ]
  },
  {
   "cell_type": "code",
   "execution_count": null,
   "metadata": {},
   "outputs": [
    {
     "data": {
      "text/plain": [
       "(array([[False]]),\n",
       " {'000000011': 0.0002874253102467305, '000000010': 0.006402537069925311},\n",
       " 0.9570363338516503)"
      ]
     },
     "execution_count": 9,
     "metadata": {},
     "output_type": "execute_result"
    }
   ],
   "source": [
    "hamld_decoder.decode(syndrome)"
   ]
  },
  {
   "cell_type": "markdown",
   "metadata": {},
   "source": [
    "The decoding tasks between different syndromes are entirely independent, so in specific experimental tests, we can use Python's multiprocessing to perform parallel decoding.  \n",
    "\n",
    "The speedup ratio depends on the number of CPU cores. The `parallel_decode_batch` function can also take a `num_workers` parameter; otherwise, it will use half of `multiprocessing.cpu_count()`.  \n",
    "\n",
    "Through parallel decoding, the time required for error correction experiments can be significantly reduced in large-scale quantum error correction simulations."
   ]
  },
  {
   "cell_type": "code",
   "execution_count": null,
   "metadata": {},
   "outputs": [
    {
     "name": "stdout",
     "output_type": "stream",
     "text": [
      "628/10000\n"
     ]
    }
   ],
   "source": [
    "circuit = stim.Circuit.generated(\"surface_code:rotated_memory_x\", \n",
    "                                distance=3, \n",
    "                                rounds=1, \n",
    "                                after_clifford_depolarization=0.05)\n",
    "num_shots = 10000\n",
    "model = circuit.detector_error_model(decompose_errors=False, flatten_loops=True)\n",
    "sampler = circuit.compile_detector_sampler()\n",
    "syndrome, actual_observables = sampler.sample(shots=num_shots, separate_observables=True)\n",
    "\n",
    "import hamld\n",
    "hmld_decoder = hamld.HAMLD(detector_error_model=model, order_method='greedy', slice_method='no_slice')\n",
    "predicted_observables = hmld_decoder.parallel_decode_batch(syndrome)\n",
    "\n",
    "num_mistakes = np.sum(np.any(predicted_observables != actual_observables, axis=1))\n",
    "\n",
    "print(f\"{num_mistakes}/{num_shots}\")"
   ]
  },
  {
   "cell_type": "markdown",
   "metadata": {},
   "source": [
    "In certain scenarios, we can enable detailed analysis by outputting the probability distribution. By setting output_prob=True, the system will not only provide the predicted logical error for syndrome correction, but also return the corresponding probability distribution for further investigation."
   ]
  },
  {
   "cell_type": "code",
   "execution_count": null,
   "metadata": {},
   "outputs": [
    {
     "name": "stdout",
     "output_type": "stream",
     "text": [
      "0/10\n",
      "predicted_observables: (10, 1)\n",
      "prob_dists: (10, 2)\n"
     ]
    }
   ],
   "source": [
    "circuit = stim.Circuit.generated(\"surface_code:rotated_memory_x\", \n",
    "                                distance=3, \n",
    "                                rounds=1, \n",
    "                                after_clifford_depolarization=0.05)\n",
    "num_shots = 10\n",
    "model = circuit.detector_error_model(decompose_errors=False, flatten_loops=True)\n",
    "sampler = circuit.compile_detector_sampler()\n",
    "syndrome, actual_observables = sampler.sample(shots=num_shots, separate_observables=True)\n",
    "\n",
    "import hamld\n",
    "hmld_decoder = hamld.HAMLD(detector_error_model=model, order_method='greedy', slice_method='no_slice')\n",
    "predicted_observables, prob_dists = hmld_decoder.decode_batch(syndrome, output_prob=True)\n",
    "\n",
    "num_mistakes = np.sum(np.any(predicted_observables != actual_observables, axis=1))\n",
    "\n",
    "print(f\"{num_mistakes}/{num_shots}\")\n",
    "print(f\"predicted_observables: {predicted_observables.shape}\")\n",
    "print(f\"prob_dists: {prob_dists.shape}\")"
   ]
  },
  {
   "cell_type": "markdown",
   "metadata": {},
   "source": [
    "The output_prob parameter remains configurable in parallel execution."
   ]
  },
  {
   "cell_type": "code",
   "execution_count": null,
   "metadata": {},
   "outputs": [
    {
     "name": "stdout",
     "output_type": "stream",
     "text": [
      "4/100\n",
      "predicted_observables: (100, 1)\n",
      "prob_dists: (100, 2)\n"
     ]
    }
   ],
   "source": [
    "circuit = stim.Circuit.generated(\"surface_code:rotated_memory_x\", \n",
    "                                distance=3, \n",
    "                                rounds=1, \n",
    "                                after_clifford_depolarization=0.05)\n",
    "num_shots = 100\n",
    "model = circuit.detector_error_model(decompose_errors=False, flatten_loops=True)\n",
    "sampler = circuit.compile_detector_sampler()\n",
    "syndrome, actual_observables = sampler.sample(shots=num_shots, separate_observables=True)\n",
    "\n",
    "import hamld\n",
    "hamld_decoder = hamld.HAMLD(detector_error_model=model, order_method='greedy', slice_method='no_slice')\n",
    "predicted_observables, prob_dists = hamld_decoder.parallel_decode_batch(syndrome, output_prob=True)\n",
    "\n",
    "num_mistakes = np.sum(np.any(predicted_observables != actual_observables, axis=1))\n",
    "\n",
    "print(f\"{num_mistakes}/{num_shots}\")\n",
    "print(f\"predicted_observables: {predicted_observables.shape}\")\n",
    "print(f\"prob_dists: {prob_dists.shape}\")"
   ]
  }
 ],
 "metadata": {
  "kernelspec": {
   "display_name": "google_qec_decoder",
   "language": "python",
   "name": "python3"
  },
  "language_info": {
   "codemirror_mode": {
    "name": "ipython",
    "version": 3
   },
   "file_extension": ".py",
   "mimetype": "text/x-python",
   "name": "python",
   "nbconvert_exporter": "python",
   "pygments_lexer": "ipython3",
   "version": "3.10.15"
  }
 },
 "nbformat": 4,
 "nbformat_minor": 2
}
