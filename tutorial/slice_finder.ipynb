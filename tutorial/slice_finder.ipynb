{
 "cells": [
  {
   "cell_type": "markdown",
   "metadata": {},
   "source": [
    "# slice finder\n",
    "\n",
    "当我们有了Hypergraph、connectivity graph、order以及contraction tree之后，我们可以进行slice的选择。"
   ]
  },
  {
   "cell_type": "markdown",
   "metadata": {},
   "source": [
    "首先，我们需要设计一个函数，估计slice某个边之后的计算成本。"
   ]
  },
  {
   "cell_type": "code",
   "execution_count": null,
   "metadata": {},
   "outputs": [
    {
     "name": "stdout",
     "output_type": "stream",
     "text": [
      "contraction_tree contraction_cost:35\n",
      "contraction_tree contraction_cost_each_step:{'D1': 4, 'D3': 8, 'D5': 4, 'D0': 8, 'D7': 4, 'D2': 4, 'D4': 2, 'D6': 1}\n"
     ]
    }
   ],
   "source": [
    "import stim\n",
    "circuit_noisy = stim.Circuit.from_file(\"../data/external/google23/surface_code_bZ_d3_r01_center_3_5/circuit_noisy.stim\")\n",
    "detector_error_model = circuit_noisy.detector_error_model()\n",
    "\n",
    "from hamld.contraction_strategy.dem_to_hypergraph import DetectorErrorModelHypergraph\n",
    "hypergraph = DetectorErrorModelHypergraph(detector_error_model=detector_error_model, have_logical_observable= True)\n",
    "from hamld.contraction_strategy.hypergraph_to_connectivity import ConnectivityGraph\n",
    "connectivity_graph = ConnectivityGraph()\n",
    "connectivity_graph.hypergraph_to_connectivity_graph(hypergraph)\n",
    "from hamld.contraction_strategy.mld_order_finder import GreedyMLDOrderFinder\n",
    "order_finder = GreedyMLDOrderFinder(connectivity_graph)\n",
    "order = order_finder.find_order()\n",
    "\n",
    "from hamld.contraction_strategy.contraction_tree import ContractionTree\n",
    "contraction_tree = ContractionTree(order, detector_error_model=detector_error_model)\n",
    "print(f\"contraction_tree contraction_cost:{contraction_tree.contraction_cost}\")\n",
    "print(f\"contraction_tree contraction_cost_each_step:{contraction_tree.contraction_cost_each_step}\")"
   ]
  },
  {
   "cell_type": "markdown",
   "metadata": {},
   "source": [
    "在某些情况下，{'D1': 4, 'D5': 8, 'D3': 4, 'D0': 8, 'D7': 4, 'D4': 4, 'D6': 2, 'D2': 1}\n",
    "D3和D5等价，二者有没有区别？"
   ]
  },
  {
   "cell_type": "code",
   "execution_count": 2,
   "metadata": {},
   "outputs": [
    {
     "name": "stdout",
     "output_type": "stream",
     "text": [
      "[(('D0', 'D4'), 3, 6), (('D3', 'D7'), 1, 4), (('D0', 'D2'), 3, 5), (('D0', 'D3'), 1, 3), (('D1', 'D5'), 0, 2), (('D2', 'D6'), 5, 7), (('D4', 'D7'), 4, 6), (('D5', 'D7'), 2, 4), (('D0', 'D5'), 2, 3), (('D0', 'D7'), 3, 4), (('D1', 'D3'), 0, 1), (('D2', 'D4'), 5, 6), (('D2', 'D7'), 4, 5), (('D3', 'D5'), 1, 2), (('D4', 'D6'), 6, 7), (('D0', 'L0'), 3, 3), (('D1', 'L0'), 0, 0), (('D2',), 5, 5), (('D3',), 1, 1), (('D4', 'L0'), 6, 6), (('D5', 'L0'), 2, 2), (('D6',), 7, 7), (('D7',), 4, 4)]\n"
     ]
    }
   ],
   "source": [
    "sorted_edge_contractions = sorted(contraction_tree.edge_contractions, key=lambda x: x[2] - x[1], reverse= True)\n",
    "print(sorted_edge_contractions)"
   ]
  },
  {
   "cell_type": "markdown",
   "metadata": {},
   "source": [
    "我们假设slice sorted_edge_contractions[0][0]超边('D0', 'D5')之后，对应的连通图收缩成本为多少？"
   ]
  },
  {
   "cell_type": "code",
   "execution_count": 3,
   "metadata": {},
   "outputs": [],
   "source": [
    "sliced_hyperedges = [sorted_edge_contractions[0][0]]"
   ]
  },
  {
   "cell_type": "code",
   "execution_count": 4,
   "metadata": {},
   "outputs": [
    {
     "data": {
      "text/plain": [
       "[('D0', 'D4')]"
      ]
     },
     "execution_count": 4,
     "metadata": {},
     "output_type": "execute_result"
    }
   ],
   "source": [
    "sliced_hyperedges"
   ]
  },
  {
   "cell_type": "code",
   "execution_count": null,
   "metadata": {},
   "outputs": [],
   "source": [
    "from hamld.contraction_strategy.slice_finder import SliceFinder\n",
    "\n",
    "slice_finder = SliceFinder(contraction_tree)\n",
    "contraction_cost, contraction_width = slice_finder.compute_node_contraction_cost_by_sliced_hypergraph(order=order, hypergraph = hypergraph, sliced_hyperedges=sliced_hyperedges)"
   ]
  },
  {
   "cell_type": "code",
   "execution_count": 6,
   "metadata": {},
   "outputs": [
    {
     "data": {
      "text/plain": [
       "[(('D0', 'D4'), 3, 6),\n",
       " (('D3', 'D7'), 1, 4),\n",
       " (('D0', 'D2'), 3, 5),\n",
       " (('D0', 'D3'), 1, 3),\n",
       " (('D1', 'D5'), 0, 2),\n",
       " (('D2', 'D6'), 5, 7),\n",
       " (('D4', 'D7'), 4, 6),\n",
       " (('D5', 'D7'), 2, 4),\n",
       " (('D0', 'D5'), 2, 3),\n",
       " (('D0', 'D7'), 3, 4),\n",
       " (('D1', 'D3'), 0, 1),\n",
       " (('D2', 'D4'), 5, 6),\n",
       " (('D2', 'D7'), 4, 5),\n",
       " (('D3', 'D5'), 1, 2),\n",
       " (('D4', 'D6'), 6, 7),\n",
       " (('D0', 'L0'), 3, 3),\n",
       " (('D1', 'L0'), 0, 0),\n",
       " (('D2',), 5, 5),\n",
       " (('D3',), 1, 1),\n",
       " (('D4', 'L0'), 6, 6),\n",
       " (('D5', 'L0'), 2, 2),\n",
       " (('D6',), 7, 7),\n",
       " (('D7',), 4, 4)]"
      ]
     },
     "execution_count": 6,
     "metadata": {},
     "output_type": "execute_result"
    }
   ],
   "source": [
    "sorted(contraction_tree.edge_contractions, key=lambda x: x[2] - x[1], reverse= True)"
   ]
  },
  {
   "cell_type": "markdown",
   "metadata": {},
   "source": [
    "## 实现多步的slice"
   ]
  },
  {
   "cell_type": "markdown",
   "metadata": {},
   "source": [
    "我们存在可并行线程（并行度），我们考虑利用slice，来达到简单网络结构的目标，从而实现更高效的compute。\n",
    "\n",
    "我们假设，我们定义并行度为：\n",
    "sliced_hyperedge_count = len(sliced_hyperedges)\n",
    "parallel_count = 2**sliced_hyperedges_number\n",
    "\n",
    "CPU一般的线程数为：\n",
    "* 几十个到几百个并行线程\n",
    "\n",
    "GPU的并行度通常取决于其核心数、每个SM（流多处理器）支持的线程束（warp）数、线程块（block）的最大大小等因素:\n",
    "* NVIDIA A100 GPU（Ampere架构）有 108个SM，每个SM支持 128个线程束，每个线程束有 32个线程，所以最大并行线程数是：108×128=13824 个并行Core\n",
    "* NVIDIA Tesla V100 GPU（Volta架构）有 80个SM，每个SM支持 64个线程束，所以最大并行线程数为：80×64=5120 个并行Core。\n",
    "\n",
    "![image.png](./figures/CPU_GPU.png)\n",
    "\n",
    "GPU并行度非常高，适合执行 数据并行 型任务（例如，相同程序的多个输入），并且通常 内存带宽 也非常高，能支持大量数据的并行计算。\n",
    "\n",
    "关于合并：GPU上的合并操作：如果计算结果较简单，合并操作可能会在GPU上通过额外的线程来完成，但通常，如果合并逻辑比较复杂，可能会将结果传输回CPU进行合并，特别是在需要进行 排序 或复杂聚合时。\n",
    "\n",
    "在HAMLD中，合并逻辑非常简单。\n",
    "\n",
    "1. 线程级并行（Thread-Level Parallelism, TLP）：线程是最小的并行执行单元。在同一进程中，多个线程可以共享进程内存，通常用于密集型计算任务。每个线程执行相同的任务，但使用不同的数据。\n",
    "2. 进程级并行（Process-Level Parallelism, PLP）：进程是操作系统分配资源的基本单元。不同进程之间通常有独立的内存空间。进程级并行用于将多个相对独立的计算任务在不同的CPU核心或者机器上运行。\n",
    "\n",
    "在HAMLD中，描述的是多个任务执行相同的计算程序，每个任务有不同的输入数据。这个场景属于 线程级并行，因为多个线程可以在同一进程中并行执行相同的计算任务，不同的是它们的输入数据不同。"
   ]
  },
  {
   "cell_type": "markdown",
   "metadata": {},
   "source": [
    "目前服务器的CPU = 72*2。\n",
    "\n",
    "目前服务器GPU为6个V100：5120 CUDA 核心 × 6 GPU = 30,720 个并行FP32线程，FP64为2560*具体可以参考：https://www.nvidia.cn/content/dam/en-zz/zh_cn/Solutions/Data-Center/volta-gpu-architecture/Volta-Architecture-Whitepaper-v1.1-CN.compressed.pdf。\n",
    "\n",
    "核心的问题：在GPU中，一个core就是一个MLD任务的执行单元吗，还是一个线程？"
   ]
  },
  {
   "cell_type": "markdown",
   "metadata": {},
   "source": [
    "我们首先假设，我们考虑CPU并行，$2^7=128$, $2^5=32$。\n",
    "因此我们slice 5、6、7个超边。"
   ]
  },
  {
   "cell_type": "code",
   "execution_count": 7,
   "metadata": {},
   "outputs": [
    {
     "name": "stdout",
     "output_type": "stream",
     "text": [
      "sliced_hyperedge_count: 5, parallel_count: 32\n"
     ]
    }
   ],
   "source": [
    "# meaning len(sliced_hyperedges) <= sliced_hyperedge_count\n",
    "sliced_hyperedge_count = 5\n",
    "parallel_count = 2**sliced_hyperedge_count\n",
    "print(f\"sliced_hyperedge_count: {sliced_hyperedge_count}, parallel_count: {parallel_count}\")"
   ]
  },
  {
   "cell_type": "markdown",
   "metadata": {},
   "source": [
    "循环选取5个hypergraph to slice，不更新order"
   ]
  },
  {
   "cell_type": "code",
   "execution_count": 8,
   "metadata": {},
   "outputs": [
    {
     "data": {
      "text/plain": [
       "(21, 2, [('D0', 'D4'), ('D3', 'D7'), ('D0', 'D2'), ('D0', 'D3'), ('D1', 'D5')])"
      ]
     },
     "execution_count": 8,
     "metadata": {},
     "output_type": "execute_result"
    }
   ],
   "source": [
    "slice_finder = SliceFinder(contraction_tree)\n",
    "slice_finder.slice_based_on_parallelism(sliced_hyperedge_count, updated_order=False)"
   ]
  },
  {
   "cell_type": "code",
   "execution_count": 9,
   "metadata": {},
   "outputs": [
    {
     "data": {
      "image/png": "[encoded data removed]",
      "text/plain": [
       "<Figure size 1200x800 with 1 Axes>"
      ]
     },
     "metadata": {},
     "output_type": "display_data"
    }
   ],
   "source": [
    "slice_finder.connectivity_graph.draw()"
   ]
  },
  {
   "cell_type": "markdown",
   "metadata": {},
   "source": [
    "每次选择之后，都更新一次order"
   ]
  },
  {
   "cell_type": "code",
   "execution_count": 10,
   "metadata": {},
   "outputs": [
    {
     "data": {
      "text/plain": [
       "(21,\n",
       " 2,\n",
       " [[('D0', 'D4')],\n",
       "  [('D3', 'D7')],\n",
       "  [('D0', 'D2')],\n",
       "  [('D1', 'D5')],\n",
       "  [('D0', 'D7')]])"
      ]
     },
     "execution_count": 10,
     "metadata": {},
     "output_type": "execute_result"
    }
   ],
   "source": [
    "slice_finder = SliceFinder(contraction_tree)\n",
    "slice_finder.slice_based_on_parallelism(sliced_hyperedge_count, updated_order=True)"
   ]
  },
  {
   "cell_type": "markdown",
   "metadata": {},
   "source": [
    "Order finder，在相邻节点连接相同时，会有一定的随机性。考虑去随机：\n",
    "1. 选择序号小的？\n",
    "2. 选择相连超边少的？\n",
    "\n",
    "我们首先简单实现了前者。通过上述方式，我们发现两种update order能够得到一个较为稳定的解，同时能够保持到与no update order相同的值（虽然我们还不确定这一定是最佳的slice后的值）。"
   ]
  }
 ],
 "metadata": {
  "kernelspec": {
   "display_name": "google_qec_decoder",
   "language": "python",
   "name": "python3"
  },
  "language_info": {
   "codemirror_mode": {
    "name": "ipython",
    "version": 3
   },
   "file_extension": ".py",
   "mimetype": "text/x-python",
   "name": "python",
   "nbconvert_exporter": "python",
   "pygments_lexer": "ipython3",
   "version": "3.10.15"
  }
 },
 "nbformat": 4,
 "nbformat_minor": 2
}
