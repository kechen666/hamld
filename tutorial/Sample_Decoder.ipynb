{
 "cells": [
  {
   "cell_type": "code",
   "execution_count": 1,
   "metadata": {},
   "outputs": [],
   "source": [
    "# import numpy as np\n",
    "# import stim\n",
    "\n",
    "# class Sample_Decoder:\n",
    "#     def __init__(self, noisy_circuit: stim.Circuit, shots: int = 1000):\n",
    "#         self.num_shots = shots\n",
    "#         # Compile the detector sampler and perform the sampling\n",
    "#         sampler = noisy_circuit.compile_detector_sampler()\n",
    "#         # Sample the syndromes and actual observables separately\n",
    "#         self.syndromes, self.actual_observables = sampler.sample(shots=self.num_shots, separate_observables=True)\n",
    "    \n",
    "#     def decode(self, syndrome: np.ndarray):\n",
    "#         # Find the indices where self.syndromes matches the input syndrome\n",
    "#         matching_indices = np.all(self.syndromes == syndrome, axis=1)\n",
    "        \n",
    "#         # Get the corresponding actual observables for the matching syndromes\n",
    "#         matching_observables = self.actual_observables[matching_indices]\n",
    "        \n",
    "#         # Count the True and False values in matching_observables\n",
    "#         true_count = np.sum(matching_observables)\n",
    "#         false_count = len(matching_observables) - true_count\n",
    "        \n",
    "#         # Calculate the ratio of True and False counts\n",
    "#         total_count = true_count + false_count\n",
    "#         true_ratio = true_count / total_count if total_count > 0 else 0\n",
    "#         false_ratio = false_count / total_count if total_count > 0 else 0\n",
    "        \n",
    "#         # Return the result: the most likely value and its confidence ratio\n",
    "#         if true_count > false_count:\n",
    "#             return np.array([True]), true_ratio\n",
    "#         else:\n",
    "#             return np.array([False]), false_ratio\n"
   ]
  },
  {
   "cell_type": "code",
   "execution_count": 2,
   "metadata": {},
   "outputs": [],
   "source": [
    "import stim\n",
    "import hamld\n",
    "import numpy as np"
   ]
  },
  {
   "cell_type": "code",
   "execution_count": 3,
   "metadata": {},
   "outputs": [],
   "source": [
    "# Generate the circuit using the stim library\n",
    "circuit = stim.Circuit.generated(\"surface_code:rotated_memory_x\", \n",
    "                                 distance=3, \n",
    "                                 rounds=1, \n",
    "                                 after_clifford_depolarization=0.05)\n",
    "\n",
    "sample_decoder = hamld.Sample_Decoder(circuit, 1000)"
   ]
  },
  {
   "cell_type": "code",
   "execution_count": 4,
   "metadata": {},
   "outputs": [],
   "source": [
    "syndrome = np.array([False]*8)\n",
    "\n",
    "predicted_observable, correct_probability = sample_decoder.decode(syndrome)"
   ]
  }
 ],
 "metadata": {
  "kernelspec": {
   "display_name": "ck_hamld",
   "language": "python",
   "name": "python3"
  },
  "language_info": {
   "codemirror_mode": {
    "name": "ipython",
    "version": 3
   },
   "file_extension": ".py",
   "mimetype": "text/x-python",
   "name": "python",
   "nbconvert_exporter": "python",
   "pygments_lexer": "ipython3",
   "version": "3.10.18"
  }
 },
 "nbformat": 4,
 "nbformat_minor": 2
}
